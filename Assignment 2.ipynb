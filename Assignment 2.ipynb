{
 "cells": [
  {
   "cell_type": "markdown",
   "id": "ce30676f",
   "metadata": {},
   "source": [
    "# Assignment 2 : Data Analysis and visualisation\n",
    "\n",
    "1. import the library and load the dataset\n",
    "    import seaborn as sns\n",
    "    data = sns.load_dataset(\"titanic\")"
   ]
  },
  {
   "cell_type": "code",
   "execution_count": 1,
   "id": "9baa8237",
   "metadata": {},
   "outputs": [],
   "source": [
    "import numpy as np\n",
    "import pandas as pd\n",
    "import seaborn as sns\n",
    "import matplotlib.pyplot as plt"
   ]
  },
  {
   "cell_type": "markdown",
   "id": "2c22f90d",
   "metadata": {},
   "source": [
    "##### data = sns.load_dataset(\"titanic\")"
   ]
  },
  {
   "cell_type": "code",
   "execution_count": 2,
   "id": "923de959",
   "metadata": {},
   "outputs": [],
   "source": [
    "data = sns.load_dataset(\"titanic\")"
   ]
  },
  {
   "cell_type": "code",
   "execution_count": 3,
   "id": "e79b1794",
   "metadata": {},
   "outputs": [
    {
     "data": {
      "text/html": [
       "<div>\n",
       "<style scoped>\n",
       "    .dataframe tbody tr th:only-of-type {\n",
       "        vertical-align: middle;\n",
       "    }\n",
       "\n",
       "    .dataframe tbody tr th {\n",
       "        vertical-align: top;\n",
       "    }\n",
       "\n",
       "    .dataframe thead th {\n",
       "        text-align: right;\n",
       "    }\n",
       "</style>\n",
       "<table border=\"1\" class=\"dataframe\">\n",
       "  <thead>\n",
       "    <tr style=\"text-align: right;\">\n",
       "      <th></th>\n",
       "      <th>survived</th>\n",
       "      <th>pclass</th>\n",
       "      <th>sex</th>\n",
       "      <th>age</th>\n",
       "      <th>sibsp</th>\n",
       "      <th>parch</th>\n",
       "      <th>fare</th>\n",
       "      <th>embarked</th>\n",
       "      <th>class</th>\n",
       "      <th>who</th>\n",
       "      <th>adult_male</th>\n",
       "      <th>deck</th>\n",
       "      <th>embark_town</th>\n",
       "      <th>alive</th>\n",
       "      <th>alone</th>\n",
       "    </tr>\n",
       "  </thead>\n",
       "  <tbody>\n",
       "    <tr>\n",
       "      <th>0</th>\n",
       "      <td>0</td>\n",
       "      <td>3</td>\n",
       "      <td>male</td>\n",
       "      <td>22.0</td>\n",
       "      <td>1</td>\n",
       "      <td>0</td>\n",
       "      <td>7.2500</td>\n",
       "      <td>S</td>\n",
       "      <td>Third</td>\n",
       "      <td>man</td>\n",
       "      <td>True</td>\n",
       "      <td>NaN</td>\n",
       "      <td>Southampton</td>\n",
       "      <td>no</td>\n",
       "      <td>False</td>\n",
       "    </tr>\n",
       "    <tr>\n",
       "      <th>1</th>\n",
       "      <td>1</td>\n",
       "      <td>1</td>\n",
       "      <td>female</td>\n",
       "      <td>38.0</td>\n",
       "      <td>1</td>\n",
       "      <td>0</td>\n",
       "      <td>71.2833</td>\n",
       "      <td>C</td>\n",
       "      <td>First</td>\n",
       "      <td>woman</td>\n",
       "      <td>False</td>\n",
       "      <td>C</td>\n",
       "      <td>Cherbourg</td>\n",
       "      <td>yes</td>\n",
       "      <td>False</td>\n",
       "    </tr>\n",
       "    <tr>\n",
       "      <th>2</th>\n",
       "      <td>1</td>\n",
       "      <td>3</td>\n",
       "      <td>female</td>\n",
       "      <td>26.0</td>\n",
       "      <td>0</td>\n",
       "      <td>0</td>\n",
       "      <td>7.9250</td>\n",
       "      <td>S</td>\n",
       "      <td>Third</td>\n",
       "      <td>woman</td>\n",
       "      <td>False</td>\n",
       "      <td>NaN</td>\n",
       "      <td>Southampton</td>\n",
       "      <td>yes</td>\n",
       "      <td>True</td>\n",
       "    </tr>\n",
       "    <tr>\n",
       "      <th>3</th>\n",
       "      <td>1</td>\n",
       "      <td>1</td>\n",
       "      <td>female</td>\n",
       "      <td>35.0</td>\n",
       "      <td>1</td>\n",
       "      <td>0</td>\n",
       "      <td>53.1000</td>\n",
       "      <td>S</td>\n",
       "      <td>First</td>\n",
       "      <td>woman</td>\n",
       "      <td>False</td>\n",
       "      <td>C</td>\n",
       "      <td>Southampton</td>\n",
       "      <td>yes</td>\n",
       "      <td>False</td>\n",
       "    </tr>\n",
       "    <tr>\n",
       "      <th>4</th>\n",
       "      <td>0</td>\n",
       "      <td>3</td>\n",
       "      <td>male</td>\n",
       "      <td>35.0</td>\n",
       "      <td>0</td>\n",
       "      <td>0</td>\n",
       "      <td>8.0500</td>\n",
       "      <td>S</td>\n",
       "      <td>Third</td>\n",
       "      <td>man</td>\n",
       "      <td>True</td>\n",
       "      <td>NaN</td>\n",
       "      <td>Southampton</td>\n",
       "      <td>no</td>\n",
       "      <td>True</td>\n",
       "    </tr>\n",
       "    <tr>\n",
       "      <th>...</th>\n",
       "      <td>...</td>\n",
       "      <td>...</td>\n",
       "      <td>...</td>\n",
       "      <td>...</td>\n",
       "      <td>...</td>\n",
       "      <td>...</td>\n",
       "      <td>...</td>\n",
       "      <td>...</td>\n",
       "      <td>...</td>\n",
       "      <td>...</td>\n",
       "      <td>...</td>\n",
       "      <td>...</td>\n",
       "      <td>...</td>\n",
       "      <td>...</td>\n",
       "      <td>...</td>\n",
       "    </tr>\n",
       "    <tr>\n",
       "      <th>886</th>\n",
       "      <td>0</td>\n",
       "      <td>2</td>\n",
       "      <td>male</td>\n",
       "      <td>27.0</td>\n",
       "      <td>0</td>\n",
       "      <td>0</td>\n",
       "      <td>13.0000</td>\n",
       "      <td>S</td>\n",
       "      <td>Second</td>\n",
       "      <td>man</td>\n",
       "      <td>True</td>\n",
       "      <td>NaN</td>\n",
       "      <td>Southampton</td>\n",
       "      <td>no</td>\n",
       "      <td>True</td>\n",
       "    </tr>\n",
       "    <tr>\n",
       "      <th>887</th>\n",
       "      <td>1</td>\n",
       "      <td>1</td>\n",
       "      <td>female</td>\n",
       "      <td>19.0</td>\n",
       "      <td>0</td>\n",
       "      <td>0</td>\n",
       "      <td>30.0000</td>\n",
       "      <td>S</td>\n",
       "      <td>First</td>\n",
       "      <td>woman</td>\n",
       "      <td>False</td>\n",
       "      <td>B</td>\n",
       "      <td>Southampton</td>\n",
       "      <td>yes</td>\n",
       "      <td>True</td>\n",
       "    </tr>\n",
       "    <tr>\n",
       "      <th>888</th>\n",
       "      <td>0</td>\n",
       "      <td>3</td>\n",
       "      <td>female</td>\n",
       "      <td>NaN</td>\n",
       "      <td>1</td>\n",
       "      <td>2</td>\n",
       "      <td>23.4500</td>\n",
       "      <td>S</td>\n",
       "      <td>Third</td>\n",
       "      <td>woman</td>\n",
       "      <td>False</td>\n",
       "      <td>NaN</td>\n",
       "      <td>Southampton</td>\n",
       "      <td>no</td>\n",
       "      <td>False</td>\n",
       "    </tr>\n",
       "    <tr>\n",
       "      <th>889</th>\n",
       "      <td>1</td>\n",
       "      <td>1</td>\n",
       "      <td>male</td>\n",
       "      <td>26.0</td>\n",
       "      <td>0</td>\n",
       "      <td>0</td>\n",
       "      <td>30.0000</td>\n",
       "      <td>C</td>\n",
       "      <td>First</td>\n",
       "      <td>man</td>\n",
       "      <td>True</td>\n",
       "      <td>C</td>\n",
       "      <td>Cherbourg</td>\n",
       "      <td>yes</td>\n",
       "      <td>True</td>\n",
       "    </tr>\n",
       "    <tr>\n",
       "      <th>890</th>\n",
       "      <td>0</td>\n",
       "      <td>3</td>\n",
       "      <td>male</td>\n",
       "      <td>32.0</td>\n",
       "      <td>0</td>\n",
       "      <td>0</td>\n",
       "      <td>7.7500</td>\n",
       "      <td>Q</td>\n",
       "      <td>Third</td>\n",
       "      <td>man</td>\n",
       "      <td>True</td>\n",
       "      <td>NaN</td>\n",
       "      <td>Queenstown</td>\n",
       "      <td>no</td>\n",
       "      <td>True</td>\n",
       "    </tr>\n",
       "  </tbody>\n",
       "</table>\n",
       "<p>891 rows × 15 columns</p>\n",
       "</div>"
      ],
      "text/plain": [
       "     survived  pclass     sex   age  sibsp  parch     fare embarked   class  \\\n",
       "0           0       3    male  22.0      1      0   7.2500        S   Third   \n",
       "1           1       1  female  38.0      1      0  71.2833        C   First   \n",
       "2           1       3  female  26.0      0      0   7.9250        S   Third   \n",
       "3           1       1  female  35.0      1      0  53.1000        S   First   \n",
       "4           0       3    male  35.0      0      0   8.0500        S   Third   \n",
       "..        ...     ...     ...   ...    ...    ...      ...      ...     ...   \n",
       "886         0       2    male  27.0      0      0  13.0000        S  Second   \n",
       "887         1       1  female  19.0      0      0  30.0000        S   First   \n",
       "888         0       3  female   NaN      1      2  23.4500        S   Third   \n",
       "889         1       1    male  26.0      0      0  30.0000        C   First   \n",
       "890         0       3    male  32.0      0      0   7.7500        Q   Third   \n",
       "\n",
       "       who  adult_male deck  embark_town alive  alone  \n",
       "0      man        True  NaN  Southampton    no  False  \n",
       "1    woman       False    C    Cherbourg   yes  False  \n",
       "2    woman       False  NaN  Southampton   yes   True  \n",
       "3    woman       False    C  Southampton   yes  False  \n",
       "4      man        True  NaN  Southampton    no   True  \n",
       "..     ...         ...  ...          ...   ...    ...  \n",
       "886    man        True  NaN  Southampton    no   True  \n",
       "887  woman       False    B  Southampton   yes   True  \n",
       "888  woman       False  NaN  Southampton    no  False  \n",
       "889    man        True    C    Cherbourg   yes   True  \n",
       "890    man        True  NaN   Queenstown    no   True  \n",
       "\n",
       "[891 rows x 15 columns]"
      ]
     },
     "execution_count": 3,
     "metadata": {},
     "output_type": "execute_result"
    }
   ],
   "source": [
    "data"
   ]
  },
  {
   "cell_type": "code",
   "execution_count": 4,
   "id": "cb708b9c",
   "metadata": {},
   "outputs": [
    {
     "data": {
      "text/plain": [
       "(891, 15)"
      ]
     },
     "execution_count": 4,
     "metadata": {},
     "output_type": "execute_result"
    }
   ],
   "source": [
    "data.shape"
   ]
  },
  {
   "cell_type": "code",
   "execution_count": 5,
   "id": "b0219520",
   "metadata": {},
   "outputs": [
    {
     "data": {
      "text/plain": [
       "survived       False\n",
       "pclass         False\n",
       "sex            False\n",
       "age             True\n",
       "sibsp          False\n",
       "parch          False\n",
       "fare           False\n",
       "embarked        True\n",
       "class          False\n",
       "who            False\n",
       "adult_male     False\n",
       "deck            True\n",
       "embark_town     True\n",
       "alive          False\n",
       "alone          False\n",
       "dtype: bool"
      ]
     },
     "execution_count": 5,
     "metadata": {},
     "output_type": "execute_result"
    }
   ],
   "source": [
    "data.isnull().any()"
   ]
  },
  {
   "cell_type": "code",
   "execution_count": 6,
   "id": "7ba29c2a",
   "metadata": {},
   "outputs": [
    {
     "data": {
      "text/plain": [
       "survived         0\n",
       "pclass           0\n",
       "sex              0\n",
       "age            177\n",
       "sibsp            0\n",
       "parch            0\n",
       "fare             0\n",
       "embarked         2\n",
       "class            0\n",
       "who              0\n",
       "adult_male       0\n",
       "deck           688\n",
       "embark_town      2\n",
       "alive            0\n",
       "alone            0\n",
       "dtype: int64"
      ]
     },
     "execution_count": 6,
     "metadata": {},
     "output_type": "execute_result"
    }
   ],
   "source": [
    "data.isnull().sum()"
   ]
  },
  {
   "cell_type": "markdown",
   "id": "a7f44e07",
   "metadata": {},
   "source": [
    "# 2. Deal with Missing values, Outliers and remove unwanted columns\n"
   ]
  },
  {
   "cell_type": "code",
   "execution_count": 7,
   "id": "d4e3ce4a",
   "metadata": {},
   "outputs": [],
   "source": [
    "data.drop(\"deck\",axis=1 ,inplace=True)"
   ]
  },
  {
   "cell_type": "code",
   "execution_count": 8,
   "id": "d5d08300",
   "metadata": {},
   "outputs": [
    {
     "data": {
      "text/plain": [
       "survived         0\n",
       "pclass           0\n",
       "sex              0\n",
       "age            177\n",
       "sibsp            0\n",
       "parch            0\n",
       "fare             0\n",
       "embarked         2\n",
       "class            0\n",
       "who              0\n",
       "adult_male       0\n",
       "embark_town      2\n",
       "alive            0\n",
       "alone            0\n",
       "dtype: int64"
      ]
     },
     "execution_count": 8,
     "metadata": {},
     "output_type": "execute_result"
    }
   ],
   "source": [
    "data.isnull().sum()"
   ]
  },
  {
   "cell_type": "markdown",
   "id": "1e267901",
   "metadata": {},
   "source": [
    "##### reset index"
   ]
  },
  {
   "cell_type": "code",
   "execution_count": 9,
   "id": "4d9d9136",
   "metadata": {},
   "outputs": [],
   "source": [
    "data.reset_index(drop=False,inplace = True)"
   ]
  },
  {
   "cell_type": "markdown",
   "id": "2765778e",
   "metadata": {},
   "source": [
    "##### finding the null vales in embarked"
   ]
  },
  {
   "cell_type": "code",
   "execution_count": 10,
   "id": "636836cc",
   "metadata": {},
   "outputs": [],
   "source": [
    "mv=data[data[\"embarked\"].isnull()].index.tolist()"
   ]
  },
  {
   "cell_type": "markdown",
   "id": "fd239afd",
   "metadata": {},
   "source": [
    "##### droping values"
   ]
  },
  {
   "cell_type": "code",
   "execution_count": 11,
   "id": "bfefe886",
   "metadata": {},
   "outputs": [],
   "source": [
    "data.drop(mv, axis=0, inplace=True)"
   ]
  },
  {
   "cell_type": "code",
   "execution_count": 12,
   "id": "25380b18",
   "metadata": {},
   "outputs": [
    {
     "data": {
      "text/plain": [
       "index          False\n",
       "survived       False\n",
       "pclass         False\n",
       "sex            False\n",
       "age             True\n",
       "sibsp          False\n",
       "parch          False\n",
       "fare           False\n",
       "embarked       False\n",
       "class          False\n",
       "who            False\n",
       "adult_male     False\n",
       "embark_town    False\n",
       "alive          False\n",
       "alone          False\n",
       "dtype: bool"
      ]
     },
     "execution_count": 12,
     "metadata": {},
     "output_type": "execute_result"
    }
   ],
   "source": [
    "data.isnull().any()"
   ]
  },
  {
   "cell_type": "code",
   "execution_count": 13,
   "id": "98bd4598",
   "metadata": {},
   "outputs": [],
   "source": [
    "data.reset_index(drop=False,inplace = True)"
   ]
  },
  {
   "cell_type": "code",
   "execution_count": 14,
   "id": "13bd74d8",
   "metadata": {},
   "outputs": [
    {
     "data": {
      "text/html": [
       "<div>\n",
       "<style scoped>\n",
       "    .dataframe tbody tr th:only-of-type {\n",
       "        vertical-align: middle;\n",
       "    }\n",
       "\n",
       "    .dataframe tbody tr th {\n",
       "        vertical-align: top;\n",
       "    }\n",
       "\n",
       "    .dataframe thead th {\n",
       "        text-align: right;\n",
       "    }\n",
       "</style>\n",
       "<table border=\"1\" class=\"dataframe\">\n",
       "  <thead>\n",
       "    <tr style=\"text-align: right;\">\n",
       "      <th></th>\n",
       "      <th>level_0</th>\n",
       "      <th>index</th>\n",
       "      <th>survived</th>\n",
       "      <th>pclass</th>\n",
       "      <th>sex</th>\n",
       "      <th>age</th>\n",
       "      <th>sibsp</th>\n",
       "      <th>parch</th>\n",
       "      <th>fare</th>\n",
       "      <th>embarked</th>\n",
       "      <th>class</th>\n",
       "      <th>who</th>\n",
       "      <th>adult_male</th>\n",
       "      <th>embark_town</th>\n",
       "      <th>alive</th>\n",
       "      <th>alone</th>\n",
       "    </tr>\n",
       "  </thead>\n",
       "  <tbody>\n",
       "    <tr>\n",
       "      <th>0</th>\n",
       "      <td>0</td>\n",
       "      <td>0</td>\n",
       "      <td>0</td>\n",
       "      <td>3</td>\n",
       "      <td>male</td>\n",
       "      <td>22.0</td>\n",
       "      <td>1</td>\n",
       "      <td>0</td>\n",
       "      <td>7.2500</td>\n",
       "      <td>S</td>\n",
       "      <td>Third</td>\n",
       "      <td>man</td>\n",
       "      <td>True</td>\n",
       "      <td>Southampton</td>\n",
       "      <td>no</td>\n",
       "      <td>False</td>\n",
       "    </tr>\n",
       "    <tr>\n",
       "      <th>1</th>\n",
       "      <td>1</td>\n",
       "      <td>1</td>\n",
       "      <td>1</td>\n",
       "      <td>1</td>\n",
       "      <td>female</td>\n",
       "      <td>38.0</td>\n",
       "      <td>1</td>\n",
       "      <td>0</td>\n",
       "      <td>71.2833</td>\n",
       "      <td>C</td>\n",
       "      <td>First</td>\n",
       "      <td>woman</td>\n",
       "      <td>False</td>\n",
       "      <td>Cherbourg</td>\n",
       "      <td>yes</td>\n",
       "      <td>False</td>\n",
       "    </tr>\n",
       "    <tr>\n",
       "      <th>2</th>\n",
       "      <td>2</td>\n",
       "      <td>2</td>\n",
       "      <td>1</td>\n",
       "      <td>3</td>\n",
       "      <td>female</td>\n",
       "      <td>26.0</td>\n",
       "      <td>0</td>\n",
       "      <td>0</td>\n",
       "      <td>7.9250</td>\n",
       "      <td>S</td>\n",
       "      <td>Third</td>\n",
       "      <td>woman</td>\n",
       "      <td>False</td>\n",
       "      <td>Southampton</td>\n",
       "      <td>yes</td>\n",
       "      <td>True</td>\n",
       "    </tr>\n",
       "    <tr>\n",
       "      <th>3</th>\n",
       "      <td>3</td>\n",
       "      <td>3</td>\n",
       "      <td>1</td>\n",
       "      <td>1</td>\n",
       "      <td>female</td>\n",
       "      <td>35.0</td>\n",
       "      <td>1</td>\n",
       "      <td>0</td>\n",
       "      <td>53.1000</td>\n",
       "      <td>S</td>\n",
       "      <td>First</td>\n",
       "      <td>woman</td>\n",
       "      <td>False</td>\n",
       "      <td>Southampton</td>\n",
       "      <td>yes</td>\n",
       "      <td>False</td>\n",
       "    </tr>\n",
       "    <tr>\n",
       "      <th>4</th>\n",
       "      <td>4</td>\n",
       "      <td>4</td>\n",
       "      <td>0</td>\n",
       "      <td>3</td>\n",
       "      <td>male</td>\n",
       "      <td>35.0</td>\n",
       "      <td>0</td>\n",
       "      <td>0</td>\n",
       "      <td>8.0500</td>\n",
       "      <td>S</td>\n",
       "      <td>Third</td>\n",
       "      <td>man</td>\n",
       "      <td>True</td>\n",
       "      <td>Southampton</td>\n",
       "      <td>no</td>\n",
       "      <td>True</td>\n",
       "    </tr>\n",
       "    <tr>\n",
       "      <th>...</th>\n",
       "      <td>...</td>\n",
       "      <td>...</td>\n",
       "      <td>...</td>\n",
       "      <td>...</td>\n",
       "      <td>...</td>\n",
       "      <td>...</td>\n",
       "      <td>...</td>\n",
       "      <td>...</td>\n",
       "      <td>...</td>\n",
       "      <td>...</td>\n",
       "      <td>...</td>\n",
       "      <td>...</td>\n",
       "      <td>...</td>\n",
       "      <td>...</td>\n",
       "      <td>...</td>\n",
       "      <td>...</td>\n",
       "    </tr>\n",
       "    <tr>\n",
       "      <th>884</th>\n",
       "      <td>886</td>\n",
       "      <td>886</td>\n",
       "      <td>0</td>\n",
       "      <td>2</td>\n",
       "      <td>male</td>\n",
       "      <td>27.0</td>\n",
       "      <td>0</td>\n",
       "      <td>0</td>\n",
       "      <td>13.0000</td>\n",
       "      <td>S</td>\n",
       "      <td>Second</td>\n",
       "      <td>man</td>\n",
       "      <td>True</td>\n",
       "      <td>Southampton</td>\n",
       "      <td>no</td>\n",
       "      <td>True</td>\n",
       "    </tr>\n",
       "    <tr>\n",
       "      <th>885</th>\n",
       "      <td>887</td>\n",
       "      <td>887</td>\n",
       "      <td>1</td>\n",
       "      <td>1</td>\n",
       "      <td>female</td>\n",
       "      <td>19.0</td>\n",
       "      <td>0</td>\n",
       "      <td>0</td>\n",
       "      <td>30.0000</td>\n",
       "      <td>S</td>\n",
       "      <td>First</td>\n",
       "      <td>woman</td>\n",
       "      <td>False</td>\n",
       "      <td>Southampton</td>\n",
       "      <td>yes</td>\n",
       "      <td>True</td>\n",
       "    </tr>\n",
       "    <tr>\n",
       "      <th>886</th>\n",
       "      <td>888</td>\n",
       "      <td>888</td>\n",
       "      <td>0</td>\n",
       "      <td>3</td>\n",
       "      <td>female</td>\n",
       "      <td>NaN</td>\n",
       "      <td>1</td>\n",
       "      <td>2</td>\n",
       "      <td>23.4500</td>\n",
       "      <td>S</td>\n",
       "      <td>Third</td>\n",
       "      <td>woman</td>\n",
       "      <td>False</td>\n",
       "      <td>Southampton</td>\n",
       "      <td>no</td>\n",
       "      <td>False</td>\n",
       "    </tr>\n",
       "    <tr>\n",
       "      <th>887</th>\n",
       "      <td>889</td>\n",
       "      <td>889</td>\n",
       "      <td>1</td>\n",
       "      <td>1</td>\n",
       "      <td>male</td>\n",
       "      <td>26.0</td>\n",
       "      <td>0</td>\n",
       "      <td>0</td>\n",
       "      <td>30.0000</td>\n",
       "      <td>C</td>\n",
       "      <td>First</td>\n",
       "      <td>man</td>\n",
       "      <td>True</td>\n",
       "      <td>Cherbourg</td>\n",
       "      <td>yes</td>\n",
       "      <td>True</td>\n",
       "    </tr>\n",
       "    <tr>\n",
       "      <th>888</th>\n",
       "      <td>890</td>\n",
       "      <td>890</td>\n",
       "      <td>0</td>\n",
       "      <td>3</td>\n",
       "      <td>male</td>\n",
       "      <td>32.0</td>\n",
       "      <td>0</td>\n",
       "      <td>0</td>\n",
       "      <td>7.7500</td>\n",
       "      <td>Q</td>\n",
       "      <td>Third</td>\n",
       "      <td>man</td>\n",
       "      <td>True</td>\n",
       "      <td>Queenstown</td>\n",
       "      <td>no</td>\n",
       "      <td>True</td>\n",
       "    </tr>\n",
       "  </tbody>\n",
       "</table>\n",
       "<p>889 rows × 16 columns</p>\n",
       "</div>"
      ],
      "text/plain": [
       "     level_0  index  survived  pclass     sex   age  sibsp  parch     fare  \\\n",
       "0          0      0         0       3    male  22.0      1      0   7.2500   \n",
       "1          1      1         1       1  female  38.0      1      0  71.2833   \n",
       "2          2      2         1       3  female  26.0      0      0   7.9250   \n",
       "3          3      3         1       1  female  35.0      1      0  53.1000   \n",
       "4          4      4         0       3    male  35.0      0      0   8.0500   \n",
       "..       ...    ...       ...     ...     ...   ...    ...    ...      ...   \n",
       "884      886    886         0       2    male  27.0      0      0  13.0000   \n",
       "885      887    887         1       1  female  19.0      0      0  30.0000   \n",
       "886      888    888         0       3  female   NaN      1      2  23.4500   \n",
       "887      889    889         1       1    male  26.0      0      0  30.0000   \n",
       "888      890    890         0       3    male  32.0      0      0   7.7500   \n",
       "\n",
       "    embarked   class    who  adult_male  embark_town alive  alone  \n",
       "0          S   Third    man        True  Southampton    no  False  \n",
       "1          C   First  woman       False    Cherbourg   yes  False  \n",
       "2          S   Third  woman       False  Southampton   yes   True  \n",
       "3          S   First  woman       False  Southampton   yes  False  \n",
       "4          S   Third    man        True  Southampton    no   True  \n",
       "..       ...     ...    ...         ...          ...   ...    ...  \n",
       "884        S  Second    man        True  Southampton    no   True  \n",
       "885        S   First  woman       False  Southampton   yes   True  \n",
       "886        S   Third  woman       False  Southampton    no  False  \n",
       "887        C   First    man        True    Cherbourg   yes   True  \n",
       "888        Q   Third    man        True   Queenstown    no   True  \n",
       "\n",
       "[889 rows x 16 columns]"
      ]
     },
     "execution_count": 14,
     "metadata": {},
     "output_type": "execute_result"
    }
   ],
   "source": [
    "data"
   ]
  },
  {
   "cell_type": "markdown",
   "id": "642f10e9",
   "metadata": {},
   "source": [
    "# fill "
   ]
  },
  {
   "cell_type": "code",
   "execution_count": 15,
   "id": "9cc6431f",
   "metadata": {},
   "outputs": [
    {
     "data": {
      "text/plain": [
       "28.0"
      ]
     },
     "execution_count": 15,
     "metadata": {},
     "output_type": "execute_result"
    }
   ],
   "source": [
    "data[\"age\"].median()"
   ]
  },
  {
   "cell_type": "code",
   "execution_count": 16,
   "id": "3005fc09",
   "metadata": {},
   "outputs": [
    {
     "data": {
      "text/plain": [
       "<function numpy.set_printoptions(precision=None, threshold=None, edgeitems=None, linewidth=None, suppress=None, nanstr=None, infstr=None, formatter=None, sign=None, floatmode=None, *, legacy=None)>"
      ]
     },
     "execution_count": 16,
     "metadata": {},
     "output_type": "execute_result"
    }
   ],
   "source": [
    "np.set_printoptions"
   ]
  },
  {
   "cell_type": "code",
   "execution_count": 17,
   "id": "13e1de97",
   "metadata": {},
   "outputs": [
    {
     "data": {
      "text/plain": [
       "count    712.000000\n",
       "mean      29.642093\n",
       "std       14.492933\n",
       "min        0.420000\n",
       "25%       20.000000\n",
       "50%       28.000000\n",
       "75%       38.000000\n",
       "max       80.000000\n",
       "Name: age, dtype: float64"
      ]
     },
     "execution_count": 17,
     "metadata": {},
     "output_type": "execute_result"
    }
   ],
   "source": [
    "data[\"age\"].describe()"
   ]
  },
  {
   "cell_type": "code",
   "execution_count": 18,
   "id": "6744526e",
   "metadata": {},
   "outputs": [
    {
     "data": {
      "text/plain": [
       "28.0"
      ]
     },
     "execution_count": 18,
     "metadata": {},
     "output_type": "execute_result"
    }
   ],
   "source": [
    "data[\"age\"].median()"
   ]
  },
  {
   "cell_type": "markdown",
   "id": "1c8d71f8",
   "metadata": {},
   "source": [
    "###### fill missing data with median of age"
   ]
  },
  {
   "cell_type": "code",
   "execution_count": 19,
   "id": "20eea4dc",
   "metadata": {},
   "outputs": [
    {
     "name": "stderr",
     "output_type": "stream",
     "text": [
      "C:\\Users\\NIBASN~1\\AppData\\Local\\Temp/ipykernel_5992/2002372947.py:1: FutureWarning: Dropping of nuisance columns in DataFrame reductions (with 'numeric_only=None') is deprecated; in a future version this will raise TypeError.  Select only valid columns before calling the reduction.\n",
      "  data.fillna(data.median(), inplace= True)\n"
     ]
    }
   ],
   "source": [
    "data.fillna(data.median(), inplace= True)"
   ]
  },
  {
   "cell_type": "code",
   "execution_count": 20,
   "id": "83bc679f",
   "metadata": {},
   "outputs": [
    {
     "data": {
      "text/plain": [
       "level_0        False\n",
       "index          False\n",
       "survived       False\n",
       "pclass         False\n",
       "sex            False\n",
       "age            False\n",
       "sibsp          False\n",
       "parch          False\n",
       "fare           False\n",
       "embarked       False\n",
       "class          False\n",
       "who            False\n",
       "adult_male     False\n",
       "embark_town    False\n",
       "alive          False\n",
       "alone          False\n",
       "dtype: bool"
      ]
     },
     "execution_count": 20,
     "metadata": {},
     "output_type": "execute_result"
    }
   ],
   "source": [
    "data.isnull().any()"
   ]
  },
  {
   "cell_type": "markdown",
   "id": "0cc2e0c7",
   "metadata": {},
   "source": [
    "# Outliner Analysis"
   ]
  },
  {
   "cell_type": "markdown",
   "id": "1a455892",
   "metadata": {},
   "source": [
    "### Age"
   ]
  },
  {
   "cell_type": "code",
   "execution_count": 21,
   "id": "8dfceb93",
   "metadata": {},
   "outputs": [
    {
     "name": "stderr",
     "output_type": "stream",
     "text": [
      "C:\\Users\\Nibas Nazeem\\anaconda3\\lib\\site-packages\\seaborn\\_decorators.py:36: FutureWarning: Pass the following variable as a keyword arg: x. From version 0.12, the only valid positional argument will be `data`, and passing other arguments without an explicit keyword will result in an error or misinterpretation.\n",
      "  warnings.warn(\n"
     ]
    },
    {
     "data": {
      "text/plain": [
       "<AxesSubplot:xlabel='age'>"
      ]
     },
     "execution_count": 21,
     "metadata": {},
     "output_type": "execute_result"
    },
    {
     "data": {
      "image/png": "[encoded data removed]",
      "text/plain": [
       "<Figure size 432x288 with 1 Axes>"
      ]
     },
     "metadata": {
      "needs_background": "light"
     },
     "output_type": "display_data"
    }
   ],
   "source": [
    "sns.boxplot(data[\"age\"])"
   ]
  },
  {
   "cell_type": "code",
   "execution_count": 22,
   "id": "fe59ffb4",
   "metadata": {},
   "outputs": [],
   "source": [
    "q1=data[\"age\"].describe()[\"25%\"]\n",
    "q3=data[\"age\"].describe()[\"75%\"]"
   ]
  },
  {
   "cell_type": "code",
   "execution_count": 23,
   "id": "bb793a88",
   "metadata": {},
   "outputs": [],
   "source": [
    "iqr=q3-q1\n",
    "l_b=q1 -(1.5 *iqr)\n",
    "u_b=q3 +(1.5*iqr)"
   ]
  },
  {
   "cell_type": "code",
   "execution_count": 24,
   "id": "ea7045c7",
   "metadata": {},
   "outputs": [
    {
     "name": "stdout",
     "output_type": "stream",
     "text": [
      "2.5\n",
      "54.5\n"
     ]
    }
   ],
   "source": [
    "print(l_b)\n",
    "print(u_b)"
   ]
  },
  {
   "cell_type": "code",
   "execution_count": 25,
   "id": "979acfab",
   "metadata": {},
   "outputs": [
    {
     "data": {
      "text/plain": [
       "2.699662542182227"
      ]
     },
     "execution_count": 25,
     "metadata": {},
     "output_type": "execute_result"
    }
   ],
   "source": [
    "(data[data[\"age\"]<l_b].shape[0]/data[\"age\"].shape[0])*100"
   ]
  },
  {
   "cell_type": "code",
   "execution_count": 26,
   "id": "3adcf3a8",
   "metadata": {},
   "outputs": [
    {
     "data": {
      "text/plain": [
       "4.611923509561304"
      ]
     },
     "execution_count": 26,
     "metadata": {},
     "output_type": "execute_result"
    }
   ],
   "source": [
    "(data[data[\"age\"]>u_b].shape[0]/data[\"age\"].shape[0])*100"
   ]
  },
  {
   "cell_type": "markdown",
   "id": "6e9edcc5",
   "metadata": {},
   "source": [
    "###### only removing upperlimit because its above 2"
   ]
  },
  {
   "cell_type": "code",
   "execution_count": 27,
   "id": "24cb7c7f",
   "metadata": {},
   "outputs": [],
   "source": [
    "data.drop(data[data[\"age\"]<l_b].index, axis=0, inplace=True)"
   ]
  },
  {
   "cell_type": "markdown",
   "id": "27c70e52",
   "metadata": {},
   "source": [
    "### Fare"
   ]
  },
  {
   "cell_type": "code",
   "execution_count": 28,
   "id": "decfcaf1",
   "metadata": {},
   "outputs": [
    {
     "name": "stderr",
     "output_type": "stream",
     "text": [
      "C:\\Users\\Nibas Nazeem\\anaconda3\\lib\\site-packages\\seaborn\\_decorators.py:36: FutureWarning: Pass the following variable as a keyword arg: x. From version 0.12, the only valid positional argument will be `data`, and passing other arguments without an explicit keyword will result in an error or misinterpretation.\n",
      "  warnings.warn(\n"
     ]
    },
    {
     "data": {
      "text/plain": [
       "<AxesSubplot:xlabel='fare'>"
      ]
     },
     "execution_count": 28,
     "metadata": {},
     "output_type": "execute_result"
    },
    {
     "data": {
      "image/png": "[encoded data removed]",
      "text/plain": [
       "<Figure size 432x288 with 1 Axes>"
      ]
     },
     "metadata": {
      "needs_background": "light"
     },
     "output_type": "display_data"
    }
   ],
   "source": [
    "sns.boxplot(data[\"fare\"])"
   ]
  },
  {
   "cell_type": "code",
   "execution_count": 29,
   "id": "6cfd814f",
   "metadata": {},
   "outputs": [
    {
     "data": {
      "text/plain": [
       "count    865.000000\n",
       "mean      32.008915\n",
       "std       50.011140\n",
       "min        0.000000\n",
       "25%        7.895800\n",
       "50%       14.000000\n",
       "75%       30.695800\n",
       "max      512.329200\n",
       "Name: fare, dtype: float64"
      ]
     },
     "execution_count": 29,
     "metadata": {},
     "output_type": "execute_result"
    }
   ],
   "source": [
    "data[\"fare\"].describe()"
   ]
  },
  {
   "cell_type": "code",
   "execution_count": 30,
   "id": "8533adf1",
   "metadata": {},
   "outputs": [],
   "source": [
    "q1=data[\"fare\"].describe()[\"25%\"]\n",
    "q3=data[\"fare\"].describe()[\"75%\"]"
   ]
  },
  {
   "cell_type": "code",
   "execution_count": 31,
   "id": "fef2e3e6",
   "metadata": {},
   "outputs": [
    {
     "name": "stdout",
     "output_type": "stream",
     "text": [
      "-26.304199999999994\n",
      "64.8958\n"
     ]
    }
   ],
   "source": [
    "iqr_fare=q3-q1\n",
    "l_b=q1 -(1.5 *iqr_fare)\n",
    "u_b=q3 +(1.5*iqr_fare)\n",
    "print(l_b)\n",
    "print(u_b)"
   ]
  },
  {
   "cell_type": "code",
   "execution_count": 32,
   "id": "755d6632",
   "metadata": {},
   "outputs": [
    {
     "data": {
      "text/plain": [
       "13.179190751445086"
      ]
     },
     "execution_count": 32,
     "metadata": {},
     "output_type": "execute_result"
    }
   ],
   "source": [
    "(data[data[\"fare\"]>u_b].shape[0]/data[\"fare\"].shape[0])*100"
   ]
  },
  {
   "cell_type": "markdown",
   "id": "e13c3953",
   "metadata": {},
   "source": [
    "### no need to drop becoz above 5"
   ]
  },
  {
   "cell_type": "code",
   "execution_count": 33,
   "id": "d7fb4770",
   "metadata": {},
   "outputs": [
    {
     "data": {
      "text/plain": [
       "0.0"
      ]
     },
     "execution_count": 33,
     "metadata": {},
     "output_type": "execute_result"
    }
   ],
   "source": [
    "(data[data[\"fare\"]<l_b].shape[0]/data[\"fare\"].shape[0])*100"
   ]
  },
  {
   "cell_type": "code",
   "execution_count": 34,
   "id": "55fbedb2",
   "metadata": {},
   "outputs": [
    {
     "data": {
      "text/html": [
       "<div>\n",
       "<style scoped>\n",
       "    .dataframe tbody tr th:only-of-type {\n",
       "        vertical-align: middle;\n",
       "    }\n",
       "\n",
       "    .dataframe tbody tr th {\n",
       "        vertical-align: top;\n",
       "    }\n",
       "\n",
       "    .dataframe thead th {\n",
       "        text-align: right;\n",
       "    }\n",
       "</style>\n",
       "<table border=\"1\" class=\"dataframe\">\n",
       "  <thead>\n",
       "    <tr style=\"text-align: right;\">\n",
       "      <th></th>\n",
       "      <th>level_0</th>\n",
       "      <th>index</th>\n",
       "      <th>survived</th>\n",
       "      <th>pclass</th>\n",
       "      <th>sex</th>\n",
       "      <th>age</th>\n",
       "      <th>sibsp</th>\n",
       "      <th>parch</th>\n",
       "      <th>fare</th>\n",
       "      <th>embarked</th>\n",
       "      <th>class</th>\n",
       "      <th>who</th>\n",
       "      <th>adult_male</th>\n",
       "      <th>embark_town</th>\n",
       "      <th>alive</th>\n",
       "      <th>alone</th>\n",
       "    </tr>\n",
       "  </thead>\n",
       "  <tbody>\n",
       "  </tbody>\n",
       "</table>\n",
       "</div>"
      ],
      "text/plain": [
       "Empty DataFrame\n",
       "Columns: [level_0, index, survived, pclass, sex, age, sibsp, parch, fare, embarked, class, who, adult_male, embark_town, alive, alone]\n",
       "Index: []"
      ]
     },
     "execution_count": 34,
     "metadata": {},
     "output_type": "execute_result"
    }
   ],
   "source": [
    "data[data[\"fare\"]<l_b]"
   ]
  },
  {
   "cell_type": "code",
   "execution_count": 35,
   "id": "49b032cd",
   "metadata": {},
   "outputs": [
    {
     "data": {
      "text/html": [
       "<div>\n",
       "<style scoped>\n",
       "    .dataframe tbody tr th:only-of-type {\n",
       "        vertical-align: middle;\n",
       "    }\n",
       "\n",
       "    .dataframe tbody tr th {\n",
       "        vertical-align: top;\n",
       "    }\n",
       "\n",
       "    .dataframe thead th {\n",
       "        text-align: right;\n",
       "    }\n",
       "</style>\n",
       "<table border=\"1\" class=\"dataframe\">\n",
       "  <thead>\n",
       "    <tr style=\"text-align: right;\">\n",
       "      <th></th>\n",
       "      <th>level_0</th>\n",
       "      <th>index</th>\n",
       "      <th>survived</th>\n",
       "      <th>pclass</th>\n",
       "      <th>sex</th>\n",
       "      <th>age</th>\n",
       "      <th>sibsp</th>\n",
       "      <th>parch</th>\n",
       "      <th>fare</th>\n",
       "      <th>embarked</th>\n",
       "      <th>class</th>\n",
       "      <th>who</th>\n",
       "      <th>adult_male</th>\n",
       "      <th>embark_town</th>\n",
       "      <th>alive</th>\n",
       "      <th>alone</th>\n",
       "    </tr>\n",
       "  </thead>\n",
       "  <tbody>\n",
       "    <tr>\n",
       "      <th>1</th>\n",
       "      <td>1</td>\n",
       "      <td>1</td>\n",
       "      <td>1</td>\n",
       "      <td>1</td>\n",
       "      <td>female</td>\n",
       "      <td>38.0</td>\n",
       "      <td>1</td>\n",
       "      <td>0</td>\n",
       "      <td>71.2833</td>\n",
       "      <td>C</td>\n",
       "      <td>First</td>\n",
       "      <td>woman</td>\n",
       "      <td>False</td>\n",
       "      <td>Cherbourg</td>\n",
       "      <td>yes</td>\n",
       "      <td>False</td>\n",
       "    </tr>\n",
       "    <tr>\n",
       "      <th>27</th>\n",
       "      <td>27</td>\n",
       "      <td>27</td>\n",
       "      <td>0</td>\n",
       "      <td>1</td>\n",
       "      <td>male</td>\n",
       "      <td>19.0</td>\n",
       "      <td>3</td>\n",
       "      <td>2</td>\n",
       "      <td>263.0000</td>\n",
       "      <td>S</td>\n",
       "      <td>First</td>\n",
       "      <td>man</td>\n",
       "      <td>True</td>\n",
       "      <td>Southampton</td>\n",
       "      <td>no</td>\n",
       "      <td>False</td>\n",
       "    </tr>\n",
       "    <tr>\n",
       "      <th>31</th>\n",
       "      <td>31</td>\n",
       "      <td>31</td>\n",
       "      <td>1</td>\n",
       "      <td>1</td>\n",
       "      <td>female</td>\n",
       "      <td>28.0</td>\n",
       "      <td>1</td>\n",
       "      <td>0</td>\n",
       "      <td>146.5208</td>\n",
       "      <td>C</td>\n",
       "      <td>First</td>\n",
       "      <td>woman</td>\n",
       "      <td>False</td>\n",
       "      <td>Cherbourg</td>\n",
       "      <td>yes</td>\n",
       "      <td>False</td>\n",
       "    </tr>\n",
       "    <tr>\n",
       "      <th>34</th>\n",
       "      <td>34</td>\n",
       "      <td>34</td>\n",
       "      <td>0</td>\n",
       "      <td>1</td>\n",
       "      <td>male</td>\n",
       "      <td>28.0</td>\n",
       "      <td>1</td>\n",
       "      <td>0</td>\n",
       "      <td>82.1708</td>\n",
       "      <td>C</td>\n",
       "      <td>First</td>\n",
       "      <td>man</td>\n",
       "      <td>True</td>\n",
       "      <td>Cherbourg</td>\n",
       "      <td>no</td>\n",
       "      <td>False</td>\n",
       "    </tr>\n",
       "    <tr>\n",
       "      <th>52</th>\n",
       "      <td>52</td>\n",
       "      <td>52</td>\n",
       "      <td>1</td>\n",
       "      <td>1</td>\n",
       "      <td>female</td>\n",
       "      <td>49.0</td>\n",
       "      <td>1</td>\n",
       "      <td>0</td>\n",
       "      <td>76.7292</td>\n",
       "      <td>C</td>\n",
       "      <td>First</td>\n",
       "      <td>woman</td>\n",
       "      <td>False</td>\n",
       "      <td>Cherbourg</td>\n",
       "      <td>yes</td>\n",
       "      <td>False</td>\n",
       "    </tr>\n",
       "    <tr>\n",
       "      <th>...</th>\n",
       "      <td>...</td>\n",
       "      <td>...</td>\n",
       "      <td>...</td>\n",
       "      <td>...</td>\n",
       "      <td>...</td>\n",
       "      <td>...</td>\n",
       "      <td>...</td>\n",
       "      <td>...</td>\n",
       "      <td>...</td>\n",
       "      <td>...</td>\n",
       "      <td>...</td>\n",
       "      <td>...</td>\n",
       "      <td>...</td>\n",
       "      <td>...</td>\n",
       "      <td>...</td>\n",
       "      <td>...</td>\n",
       "    </tr>\n",
       "    <tr>\n",
       "      <th>844</th>\n",
       "      <td>846</td>\n",
       "      <td>846</td>\n",
       "      <td>0</td>\n",
       "      <td>3</td>\n",
       "      <td>male</td>\n",
       "      <td>28.0</td>\n",
       "      <td>8</td>\n",
       "      <td>2</td>\n",
       "      <td>69.5500</td>\n",
       "      <td>S</td>\n",
       "      <td>Third</td>\n",
       "      <td>man</td>\n",
       "      <td>True</td>\n",
       "      <td>Southampton</td>\n",
       "      <td>no</td>\n",
       "      <td>False</td>\n",
       "    </tr>\n",
       "    <tr>\n",
       "      <th>847</th>\n",
       "      <td>849</td>\n",
       "      <td>849</td>\n",
       "      <td>1</td>\n",
       "      <td>1</td>\n",
       "      <td>female</td>\n",
       "      <td>28.0</td>\n",
       "      <td>1</td>\n",
       "      <td>0</td>\n",
       "      <td>89.1042</td>\n",
       "      <td>C</td>\n",
       "      <td>First</td>\n",
       "      <td>woman</td>\n",
       "      <td>False</td>\n",
       "      <td>Cherbourg</td>\n",
       "      <td>yes</td>\n",
       "      <td>False</td>\n",
       "    </tr>\n",
       "    <tr>\n",
       "      <th>854</th>\n",
       "      <td>856</td>\n",
       "      <td>856</td>\n",
       "      <td>1</td>\n",
       "      <td>1</td>\n",
       "      <td>female</td>\n",
       "      <td>45.0</td>\n",
       "      <td>1</td>\n",
       "      <td>1</td>\n",
       "      <td>164.8667</td>\n",
       "      <td>S</td>\n",
       "      <td>First</td>\n",
       "      <td>woman</td>\n",
       "      <td>False</td>\n",
       "      <td>Southampton</td>\n",
       "      <td>yes</td>\n",
       "      <td>False</td>\n",
       "    </tr>\n",
       "    <tr>\n",
       "      <th>861</th>\n",
       "      <td>863</td>\n",
       "      <td>863</td>\n",
       "      <td>0</td>\n",
       "      <td>3</td>\n",
       "      <td>female</td>\n",
       "      <td>28.0</td>\n",
       "      <td>8</td>\n",
       "      <td>2</td>\n",
       "      <td>69.5500</td>\n",
       "      <td>S</td>\n",
       "      <td>Third</td>\n",
       "      <td>woman</td>\n",
       "      <td>False</td>\n",
       "      <td>Southampton</td>\n",
       "      <td>no</td>\n",
       "      <td>False</td>\n",
       "    </tr>\n",
       "    <tr>\n",
       "      <th>877</th>\n",
       "      <td>879</td>\n",
       "      <td>879</td>\n",
       "      <td>1</td>\n",
       "      <td>1</td>\n",
       "      <td>female</td>\n",
       "      <td>56.0</td>\n",
       "      <td>0</td>\n",
       "      <td>1</td>\n",
       "      <td>83.1583</td>\n",
       "      <td>C</td>\n",
       "      <td>First</td>\n",
       "      <td>woman</td>\n",
       "      <td>False</td>\n",
       "      <td>Cherbourg</td>\n",
       "      <td>yes</td>\n",
       "      <td>False</td>\n",
       "    </tr>\n",
       "  </tbody>\n",
       "</table>\n",
       "<p>114 rows × 16 columns</p>\n",
       "</div>"
      ],
      "text/plain": [
       "     level_0  index  survived  pclass     sex   age  sibsp  parch      fare  \\\n",
       "1          1      1         1       1  female  38.0      1      0   71.2833   \n",
       "27        27     27         0       1    male  19.0      3      2  263.0000   \n",
       "31        31     31         1       1  female  28.0      1      0  146.5208   \n",
       "34        34     34         0       1    male  28.0      1      0   82.1708   \n",
       "52        52     52         1       1  female  49.0      1      0   76.7292   \n",
       "..       ...    ...       ...     ...     ...   ...    ...    ...       ...   \n",
       "844      846    846         0       3    male  28.0      8      2   69.5500   \n",
       "847      849    849         1       1  female  28.0      1      0   89.1042   \n",
       "854      856    856         1       1  female  45.0      1      1  164.8667   \n",
       "861      863    863         0       3  female  28.0      8      2   69.5500   \n",
       "877      879    879         1       1  female  56.0      0      1   83.1583   \n",
       "\n",
       "    embarked  class    who  adult_male  embark_town alive  alone  \n",
       "1          C  First  woman       False    Cherbourg   yes  False  \n",
       "27         S  First    man        True  Southampton    no  False  \n",
       "31         C  First  woman       False    Cherbourg   yes  False  \n",
       "34         C  First    man        True    Cherbourg    no  False  \n",
       "52         C  First  woman       False    Cherbourg   yes  False  \n",
       "..       ...    ...    ...         ...          ...   ...    ...  \n",
       "844        S  Third    man        True  Southampton    no  False  \n",
       "847        C  First  woman       False    Cherbourg   yes  False  \n",
       "854        S  First  woman       False  Southampton   yes  False  \n",
       "861        S  Third  woman       False  Southampton    no  False  \n",
       "877        C  First  woman       False    Cherbourg   yes  False  \n",
       "\n",
       "[114 rows x 16 columns]"
      ]
     },
     "execution_count": 35,
     "metadata": {},
     "output_type": "execute_result"
    }
   ],
   "source": [
    "data[data[\"fare\"]>u_b]"
   ]
  },
  {
   "cell_type": "markdown",
   "id": "b6ed83a6",
   "metadata": {},
   "source": [
    "# sibsp"
   ]
  },
  {
   "cell_type": "code",
   "execution_count": 36,
   "id": "776f9cc6",
   "metadata": {},
   "outputs": [
    {
     "name": "stderr",
     "output_type": "stream",
     "text": [
      "C:\\Users\\Nibas Nazeem\\anaconda3\\lib\\site-packages\\seaborn\\_decorators.py:36: FutureWarning: Pass the following variable as a keyword arg: x. From version 0.12, the only valid positional argument will be `data`, and passing other arguments without an explicit keyword will result in an error or misinterpretation.\n",
      "  warnings.warn(\n"
     ]
    },
    {
     "data": {
      "text/plain": [
       "<AxesSubplot:xlabel='sibsp'>"
      ]
     },
     "execution_count": 36,
     "metadata": {},
     "output_type": "execute_result"
    },
    {
     "data": {
      "image/png": "[encoded data removed]",
      "text/plain": [
       "<Figure size 432x288 with 1 Axes>"
      ]
     },
     "metadata": {
      "needs_background": "light"
     },
     "output_type": "display_data"
    }
   ],
   "source": [
    "sns.boxplot(data[\"sibsp\"])"
   ]
  },
  {
   "cell_type": "code",
   "execution_count": 37,
   "id": "a5ba71bf",
   "metadata": {},
   "outputs": [
    {
     "data": {
      "text/plain": [
       "count    865.000000\n",
       "mean       0.491329\n",
       "std        1.070536\n",
       "min        0.000000\n",
       "25%        0.000000\n",
       "50%        0.000000\n",
       "75%        1.000000\n",
       "max        8.000000\n",
       "Name: sibsp, dtype: float64"
      ]
     },
     "execution_count": 37,
     "metadata": {},
     "output_type": "execute_result"
    }
   ],
   "source": [
    "data[\"sibsp\"].describe()"
   ]
  },
  {
   "cell_type": "code",
   "execution_count": 38,
   "id": "ca97b98d",
   "metadata": {},
   "outputs": [],
   "source": [
    "q1=data[\"sibsp\"].describe()[\"25%\"]\n",
    "q3=data[\"sibsp\"].describe()[\"75%\"]"
   ]
  },
  {
   "cell_type": "code",
   "execution_count": 39,
   "id": "61bbc5a2",
   "metadata": {},
   "outputs": [
    {
     "name": "stdout",
     "output_type": "stream",
     "text": [
      "-1.5\n",
      "2.5\n"
     ]
    }
   ],
   "source": [
    "iqr_sibsp=q3-q1\n",
    "l_b=q1 -(1.5 *iqr_sibsp)\n",
    "u_b=q3 +(1.5*iqr_sibsp)\n",
    "print(l_b)\n",
    "print(u_b)"
   ]
  },
  {
   "cell_type": "code",
   "execution_count": 40,
   "id": "15092bb8",
   "metadata": {},
   "outputs": [
    {
     "data": {
      "text/plain": [
       "4.508670520231214"
      ]
     },
     "execution_count": 40,
     "metadata": {},
     "output_type": "execute_result"
    }
   ],
   "source": [
    "(data[data[\"sibsp\"]>u_b].shape[0]/data[\"sibsp\"].shape[0])*100"
   ]
  },
  {
   "cell_type": "code",
   "execution_count": 41,
   "id": "a51783e4",
   "metadata": {},
   "outputs": [
    {
     "data": {
      "text/plain": [
       "0.0"
      ]
     },
     "execution_count": 41,
     "metadata": {},
     "output_type": "execute_result"
    }
   ],
   "source": [
    "(data[data[\"sibsp\"]<l_b].shape[0]/data[\"sibsp\"].shape[0])*100"
   ]
  },
  {
   "cell_type": "markdown",
   "id": "7dd9df96",
   "metadata": {},
   "source": [
    "# 3.Perform exploratory Data analysis\n",
    "   1.Perform Descriptive statistics\n",
    "   2.Do Data visualisation using seaborn and matplotlib(10-15 visualizations)\n"
   ]
  },
  {
   "cell_type": "markdown",
   "id": "c97d264e",
   "metadata": {},
   "source": [
    "### Count of people from each town"
   ]
  },
  {
   "cell_type": "code",
   "execution_count": 42,
   "id": "464b069b",
   "metadata": {},
   "outputs": [],
   "source": [
    "gdata=data[\"embark_town\"].value_counts()"
   ]
  },
  {
   "cell_type": "code",
   "execution_count": 43,
   "id": "34c61e85",
   "metadata": {},
   "outputs": [
    {
     "data": {
      "text/plain": [
       "Index(['Southampton', 'Cherbourg', 'Queenstown'], dtype='object')"
      ]
     },
     "execution_count": 43,
     "metadata": {},
     "output_type": "execute_result"
    }
   ],
   "source": [
    "gdata.index"
   ]
  },
  {
   "cell_type": "code",
   "execution_count": 44,
   "id": "6dce5ee1",
   "metadata": {},
   "outputs": [
    {
     "data": {
      "text/plain": [
       "array([626, 163,  76], dtype=int64)"
      ]
     },
     "execution_count": 44,
     "metadata": {},
     "output_type": "execute_result"
    }
   ],
   "source": [
    "gdata.values"
   ]
  },
  {
   "cell_type": "code",
   "execution_count": 45,
   "id": "9c23f6f2",
   "metadata": {},
   "outputs": [
    {
     "data": {
      "text/plain": [
       "Text(0.5, 1.0, 'Count of people from each town')"
      ]
     },
     "execution_count": 45,
     "metadata": {},
     "output_type": "execute_result"
    },
    {
     "data": {
      "image/png": "[encoded data removed]",
      "text/plain": [
       "<Figure size 432x288 with 1 Axes>"
      ]
     },
     "metadata": {
      "needs_background": "light"
     },
     "output_type": "display_data"
    }
   ],
   "source": [
    "plt.bar(gdata.index,gdata.values,color=[\"red\",\"blue\",\"green\"])\n",
    "plt.xlabel(\"Embark Town\")\n",
    "plt.ylabel(\"Frequncy\")\n",
    "plt.title(\"Count of people from each town\")"
   ]
  },
  {
   "cell_type": "markdown",
   "id": "d948cec0",
   "metadata": {},
   "source": [
    "### Count diffrence between male and female passengers"
   ]
  },
  {
   "cell_type": "code",
   "execution_count": 46,
   "id": "ba0c3020",
   "metadata": {},
   "outputs": [],
   "source": [
    "gdata=data[\"sex\"].value_counts()"
   ]
  },
  {
   "cell_type": "code",
   "execution_count": 47,
   "id": "88bc1aea",
   "metadata": {},
   "outputs": [
    {
     "data": {
      "text/plain": [
       "array([563, 302], dtype=int64)"
      ]
     },
     "execution_count": 47,
     "metadata": {},
     "output_type": "execute_result"
    }
   ],
   "source": [
    "gdata.values"
   ]
  },
  {
   "cell_type": "code",
   "execution_count": 48,
   "id": "f7bc55ec",
   "metadata": {},
   "outputs": [
    {
     "data": {
      "text/plain": [
       "Index(['male', 'female'], dtype='object')"
      ]
     },
     "execution_count": 48,
     "metadata": {},
     "output_type": "execute_result"
    }
   ],
   "source": [
    "gdata.index"
   ]
  },
  {
   "cell_type": "code",
   "execution_count": 49,
   "id": "0f1b5ab8",
   "metadata": {},
   "outputs": [
    {
     "data": {
      "text/plain": [
       "Text(0.5, 1.0, 'Count diffrence between male and female passengers')"
      ]
     },
     "execution_count": 49,
     "metadata": {},
     "output_type": "execute_result"
    },
    {
     "data": {
      "image/png": "[encoded data removed]",
      "text/plain": [
       "<Figure size 432x288 with 1 Axes>"
      ]
     },
     "metadata": {
      "needs_background": "light"
     },
     "output_type": "display_data"
    }
   ],
   "source": [
    "plt.bar(gdata.index,gdata.values,color=[\"blue\",\"pink\"])\n",
    "plt.xlabel(\"Gender of passengers\")\n",
    "plt.title(\"Count diffrence between male and female passengers\")"
   ]
  },
  {
   "cell_type": "markdown",
   "id": "cba9e79d",
   "metadata": {},
   "source": [
    "### Representation of alive people"
   ]
  },
  {
   "cell_type": "code",
   "execution_count": 50,
   "id": "e94b09a1",
   "metadata": {},
   "outputs": [],
   "source": [
    "gdata=data[\"alive\"].value_counts()"
   ]
  },
  {
   "cell_type": "code",
   "execution_count": 51,
   "id": "df8e0d1d",
   "metadata": {},
   "outputs": [
    {
     "data": {
      "text/plain": [
       "array([540, 325], dtype=int64)"
      ]
     },
     "execution_count": 51,
     "metadata": {},
     "output_type": "execute_result"
    }
   ],
   "source": [
    "gdata.values"
   ]
  },
  {
   "cell_type": "code",
   "execution_count": 54,
   "id": "44e536a5",
   "metadata": {},
   "outputs": [
    {
     "data": {
      "text/plain": [
       "Index(['no', 'yes'], dtype='object')"
      ]
     },
     "execution_count": 54,
     "metadata": {},
     "output_type": "execute_result"
    }
   ],
   "source": [
    "gdata.index"
   ]
  },
  {
   "cell_type": "code",
   "execution_count": 55,
   "id": "bf4e6579",
   "metadata": {},
   "outputs": [
    {
     "data": {
      "text/plain": [
       "Text(0.5, 1.0, 'Representation of alive people')"
      ]
     },
     "execution_count": 55,
     "metadata": {},
     "output_type": "execute_result"
    },
    {
     "data": {
      "image/png": "[encoded data removed]",
      "text/plain": [
       "<Figure size 432x288 with 1 Axes>"
      ]
     },
     "metadata": {
      "needs_background": "light"
     },
     "output_type": "display_data"
    }
   ],
   "source": [
    "plt.bar(gdata.index,gdata.values,color=[\"red\",\"green\"])\n",
    "plt.title(\"Representation of alive people\")"
   ]
  },
  {
   "cell_type": "markdown",
   "id": "e3406d4c",
   "metadata": {},
   "source": [
    "### The count of classes "
   ]
  },
  {
   "cell_type": "code",
   "execution_count": 57,
   "id": "6584bbf9",
   "metadata": {},
   "outputs": [],
   "source": [
    "gdata=data[\"class\"].value_counts()"
   ]
  },
  {
   "cell_type": "code",
   "execution_count": 59,
   "id": "29feac5f",
   "metadata": {},
   "outputs": [
    {
     "data": {
      "text/plain": [
       "CategoricalIndex(['Third', 'First', 'Second'], categories=['First', 'Second', 'Third'], ordered=False, dtype='category')"
      ]
     },
     "execution_count": 59,
     "metadata": {},
     "output_type": "execute_result"
    }
   ],
   "source": [
    "gdata.index"
   ]
  },
  {
   "cell_type": "code",
   "execution_count": 60,
   "id": "e0e53cad",
   "metadata": {},
   "outputs": [
    {
     "data": {
      "text/plain": [
       "array([476, 212, 177], dtype=int64)"
      ]
     },
     "execution_count": 60,
     "metadata": {},
     "output_type": "execute_result"
    }
   ],
   "source": [
    "gdata.values"
   ]
  },
  {
   "cell_type": "code",
   "execution_count": 63,
   "id": "1fe3d937",
   "metadata": {},
   "outputs": [
    {
     "data": {
      "text/plain": [
       "Text(0.5, 1.0, 'The count of classes')"
      ]
     },
     "execution_count": 63,
     "metadata": {},
     "output_type": "execute_result"
    },
    {
     "data": {
      "image/png": "[encoded data removed]",
      "text/plain": [
       "<Figure size 432x288 with 1 Axes>"
      ]
     },
     "metadata": {
      "needs_background": "light"
     },
     "output_type": "display_data"
    }
   ],
   "source": [
    "plt.bar(gdata.index,gdata.values,color=[\"green\",\"yellow\",\"red\"])\n",
    "plt.title(\"The count of classes\")"
   ]
  },
  {
   "cell_type": "markdown",
   "id": "96bab591",
   "metadata": {},
   "source": [
    "### age by class"
   ]
  },
  {
   "cell_type": "code",
   "execution_count": 73,
   "id": "e4694581",
   "metadata": {},
   "outputs": [],
   "source": [
    "gdata=data[\"age\"].value_counts()"
   ]
  },
  {
   "cell_type": "code",
   "execution_count": 74,
   "id": "23765d9e",
   "metadata": {},
   "outputs": [
    {
     "data": {
      "text/plain": [
       "Float64Index([28.0, 24.0, 22.0, 18.0, 30.0, 19.0, 21.0, 25.0, 36.0, 29.0, 27.0,\n",
       "              32.0, 35.0, 26.0, 16.0, 31.0, 33.0, 34.0, 23.0, 20.0, 39.0, 40.0,\n",
       "              42.0, 17.0, 45.0, 38.0,  4.0, 50.0, 47.0, 44.0, 48.0,  9.0, 54.0,\n",
       "              51.0, 49.0, 52.0,  3.0, 41.0, 14.0, 37.0, 58.0, 43.0, 15.0, 56.0,\n",
       "              11.0,  5.0,  8.0, 60.0, 62.0, 61.0,  6.0, 46.0, 65.0,  7.0, 71.0,\n",
       "              13.0, 64.0, 10.0, 40.5, 63.0, 28.5, 59.0, 70.0, 45.5, 55.0, 32.5,\n",
       "              30.5, 57.0, 53.0, 80.0, 24.5, 34.5, 55.5, 66.0, 23.5, 20.5, 14.5,\n",
       "              70.5, 12.0, 36.5, 74.0],\n",
       "             dtype='float64')"
      ]
     },
     "execution_count": 74,
     "metadata": {},
     "output_type": "execute_result"
    }
   ],
   "source": [
    "gdata.index"
   ]
  },
  {
   "cell_type": "code",
   "execution_count": 85,
   "id": "b85eb2e9",
   "metadata": {},
   "outputs": [
    {
     "data": {
      "text/plain": [
       "array([202,  30,  27,  26,  25,  25,  24,  23,  22,  20,  18,  18,  18,\n",
       "        18,  17,  17,  15,  15,  15,  15,  14,  13,  13,  13,  12,  10,\n",
       "        10,  10,   9,   9,   9,   8,   8,   7,   6,   6,   6,   6,   6,\n",
       "         6,   5,   5,   5,   4,   4,   4,   4,   4,   3,   3,   3,   3,\n",
       "         3,   3,   2,   2,   2,   2,   2,   2,   2,   2,   2,   2,   2,\n",
       "         2,   2,   2,   1,   1,   1,   1,   1,   1,   1,   1,   1,   1,\n",
       "         1,   1,   1], dtype=int64)"
      ]
     },
     "execution_count": 85,
     "metadata": {},
     "output_type": "execute_result"
    }
   ],
   "source": [
    "gdata.values"
   ]
  },
  {
   "cell_type": "code",
   "execution_count": 111,
   "id": "45373eeb",
   "metadata": {},
   "outputs": [
    {
     "data": {
      "text/plain": [
       "Text(0, 0.5, 'Class')"
      ]
     },
     "execution_count": 111,
     "metadata": {},
     "output_type": "execute_result"
    },
    {
     "data": {
      "image/png": "[encoded data removed]",
      "text/plain": [
       "<Figure size 432x288 with 1 Axes>"
      ]
     },
     "metadata": {
      "needs_background": "light"
     },
     "output_type": "display_data"
    }
   ],
   "source": [
    "plt.scatter(data=data,x='age',y='class')\n",
    "plt.xlabel(\"Age\")\n",
    "plt.ylabel(\"Class\")"
   ]
  },
  {
   "cell_type": "markdown",
   "id": "337953a5",
   "metadata": {},
   "source": [
    "#### survived"
   ]
  },
  {
   "cell_type": "code",
   "execution_count": 97,
   "id": "258d7497",
   "metadata": {},
   "outputs": [],
   "source": [
    "gdata=data[\"survived\"].value_counts()"
   ]
  },
  {
   "cell_type": "code",
   "execution_count": 106,
   "id": "9477d8e8",
   "metadata": {},
   "outputs": [
    {
     "data": {
      "text/plain": [
       "array([540, 325], dtype=int64)"
      ]
     },
     "execution_count": 106,
     "metadata": {},
     "output_type": "execute_result"
    }
   ],
   "source": [
    "gdata.values"
   ]
  },
  {
   "cell_type": "code",
   "execution_count": 129,
   "id": "cba26460",
   "metadata": {},
   "outputs": [
    {
     "data": {
      "text/plain": [
       "Index(['male', 'female'], dtype='object')"
      ]
     },
     "execution_count": 129,
     "metadata": {},
     "output_type": "execute_result"
    }
   ],
   "source": [
    "gdata.index"
   ]
  },
  {
   "cell_type": "code",
   "execution_count": 130,
   "id": "94ff2d0b",
   "metadata": {},
   "outputs": [
    {
     "data": {
      "text/plain": [
       "<BarContainer object of 2 artists>"
      ]
     },
     "execution_count": 130,
     "metadata": {},
     "output_type": "execute_result"
    },
    {
     "data": {
      "image/png": "[encoded data removed]",
      "text/plain": [
       "<Figure size 432x288 with 1 Axes>"
      ]
     },
     "metadata": {
      "needs_background": "light"
     },
     "output_type": "display_data"
    }
   ],
   "source": [
    "plt.bar(gdata.index,gdata.values,color=[\"red\",\"green\"])\n"
   ]
  },
  {
   "cell_type": "markdown",
   "id": "7f781649",
   "metadata": {},
   "source": [
    "### alive"
   ]
  },
  {
   "cell_type": "code",
   "execution_count": 98,
   "id": "a0cf83da",
   "metadata": {},
   "outputs": [],
   "source": [
    "gdata=data[\"alive\"].value_counts()"
   ]
  },
  {
   "cell_type": "code",
   "execution_count": 99,
   "id": "53ac49a6",
   "metadata": {},
   "outputs": [
    {
     "data": {
      "text/plain": [
       "array([540, 325], dtype=int64)"
      ]
     },
     "execution_count": 99,
     "metadata": {},
     "output_type": "execute_result"
    }
   ],
   "source": [
    "gdata.values"
   ]
  },
  {
   "cell_type": "code",
   "execution_count": 100,
   "id": "997d945a",
   "metadata": {},
   "outputs": [
    {
     "data": {
      "text/plain": [
       "Index(['no', 'yes'], dtype='object')"
      ]
     },
     "execution_count": 100,
     "metadata": {},
     "output_type": "execute_result"
    }
   ],
   "source": [
    "gdata.index"
   ]
  },
  {
   "cell_type": "code",
   "execution_count": 101,
   "id": "1eacb57c",
   "metadata": {},
   "outputs": [
    {
     "data": {
      "text/plain": [
       "<BarContainer object of 2 artists>"
      ]
     },
     "execution_count": 101,
     "metadata": {},
     "output_type": "execute_result"
    },
    {
     "data": {
      "image/png": "[encoded data removed]",
      "text/plain": [
       "<Figure size 432x288 with 1 Axes>"
      ]
     },
     "metadata": {
      "needs_background": "light"
     },
     "output_type": "display_data"
    }
   ],
   "source": [
    "plt.bar(gdata.index,gdata.values,color=[\"red\",\"green\"])\n"
   ]
  },
  {
   "cell_type": "markdown",
   "id": "f853228b",
   "metadata": {},
   "source": [
    "### class by fare"
   ]
  },
  {
   "cell_type": "code",
   "execution_count": 107,
   "id": "2a79666f",
   "metadata": {},
   "outputs": [
    {
     "data": {
      "text/plain": [
       "Text(0.5, 1.0, 'Cost of Ticket')"
      ]
     },
     "execution_count": 107,
     "metadata": {},
     "output_type": "execute_result"
    },
    {
     "data": {
      "image/png": "[encoded data removed]",
      "text/plain": [
       "<Figure size 432x288 with 1 Axes>"
      ]
     },
     "metadata": {
      "needs_background": "light"
     },
     "output_type": "display_data"
    }
   ],
   "source": [
    "plt.scatter(data=data,x='class',y='fare')\n",
    "plt.xlabel(\"Categories of ticket\")\n",
    "plt.ylabel(\"Fare\")\n",
    "plt.title(\"Cost of Ticket\")"
   ]
  },
  {
   "cell_type": "markdown",
   "id": "4045d819",
   "metadata": {},
   "source": [
    "### age by embark town"
   ]
  },
  {
   "cell_type": "code",
   "execution_count": 115,
   "id": "d224a151",
   "metadata": {},
   "outputs": [
    {
     "data": {
      "text/plain": [
       "Text(0.5, 1.0, 'Cost of Ticket')"
      ]
     },
     "execution_count": 115,
     "metadata": {},
     "output_type": "execute_result"
    },
    {
     "data": {
      "image/png": "[encoded data removed]",
      "text/plain": [
       "<Figure size 432x288 with 1 Axes>"
      ]
     },
     "metadata": {
      "needs_background": "light"
     },
     "output_type": "display_data"
    }
   ],
   "source": [
    "plt.scatter(data=data,x='embark_town',y='age')\n",
    "plt.xlabel(\"Categories of ticket\")\n",
    "plt.ylabel(\"Fare\")\n",
    "plt.title(\"Cost of Ticket\")"
   ]
  },
  {
   "cell_type": "markdown",
   "id": "5713ff72",
   "metadata": {},
   "source": [
    "#### alive by town"
   ]
  },
  {
   "cell_type": "code",
   "execution_count": 123,
   "id": "f06e170d",
   "metadata": {},
   "outputs": [
    {
     "data": {
      "text/plain": [
       "Text(0.5, 1.0, 'Cost of Ticket')"
      ]
     },
     "execution_count": 123,
     "metadata": {},
     "output_type": "execute_result"
    },
    {
     "data": {
      "image/png": "[encoded data removed]",
      "text/plain": [
       "<Figure size 432x288 with 1 Axes>"
      ]
     },
     "metadata": {
      "needs_background": "light"
     },
     "output_type": "display_data"
    }
   ],
   "source": [
    "plt.scatter(data=data,x='age',y='alive')\n",
    "plt.xlabel(\"Categories of ticket\")\n",
    "plt.ylabel(\"Fare\")\n",
    "plt.title(\"Cost of Ticket\")"
   ]
  },
  {
   "cell_type": "markdown",
   "id": "c15cff40",
   "metadata": {},
   "source": [
    "### Pie Chart"
   ]
  },
  {
   "cell_type": "code",
   "execution_count": 56,
   "id": "80692cb2",
   "metadata": {},
   "outputs": [],
   "source": [
    "gdata=data[\"embark_town\"].value_counts()"
   ]
  },
  {
   "cell_type": "code",
   "execution_count": 58,
   "id": "79eb9293",
   "metadata": {},
   "outputs": [
    {
     "data": {
      "text/plain": [
       "array([626, 163,  76], dtype=int64)"
      ]
     },
     "execution_count": 58,
     "metadata": {},
     "output_type": "execute_result"
    }
   ],
   "source": [
    "gdata.values"
   ]
  },
  {
   "cell_type": "code",
   "execution_count": 59,
   "id": "a0134bb4",
   "metadata": {},
   "outputs": [
    {
     "data": {
      "text/plain": [
       "Index(['Southampton', 'Cherbourg', 'Queenstown'], dtype='object')"
      ]
     },
     "execution_count": 59,
     "metadata": {},
     "output_type": "execute_result"
    }
   ],
   "source": [
    "gdata.index"
   ]
  },
  {
   "cell_type": "code",
   "execution_count": 61,
   "id": "3c756f38",
   "metadata": {},
   "outputs": [
    {
     "data": {
      "text/plain": [
       "3"
      ]
     },
     "execution_count": 61,
     "metadata": {},
     "output_type": "execute_result"
    }
   ],
   "source": [
    "len(gdata.sort_values(ascending=False))"
   ]
  },
  {
   "cell_type": "code",
   "execution_count": 62,
   "id": "e173e4ac",
   "metadata": {},
   "outputs": [],
   "source": [
    "explode=np.zeros(len(gdata))"
   ]
  },
  {
   "cell_type": "code",
   "execution_count": 63,
   "id": "8746d23a",
   "metadata": {},
   "outputs": [
    {
     "data": {
      "text/plain": [
       "array([0., 0., 0.])"
      ]
     },
     "execution_count": 63,
     "metadata": {},
     "output_type": "execute_result"
    }
   ],
   "source": [
    "explode"
   ]
  },
  {
   "cell_type": "code",
   "execution_count": 65,
   "id": "4c18e47c",
   "metadata": {},
   "outputs": [],
   "source": [
    "gdata=gdata.sample(frac = 1)"
   ]
  },
  {
   "cell_type": "code",
   "execution_count": 67,
   "id": "c27204fb",
   "metadata": {},
   "outputs": [
    {
     "data": {
      "text/plain": [
       "([<matplotlib.patches.Wedge at 0x1e971d486a0>,\n",
       "  <matplotlib.patches.Wedge at 0x1e971d48dc0>,\n",
       "  <matplotlib.patches.Wedge at 0x1e971d55520>],\n",
       " [Text(-0.7109693490694791, 0.8393584363570318, 'Southampton'),\n",
       "  Text(0.12160135755326976, -1.0932580252809498, 'Queenstown'),\n",
       "  Text(0.9128093162523038, -0.6138233884131509, 'Cherbourg')],\n",
       " [Text(-0.4524350403169411, 0.5341371867726565, '72.4'),\n",
       "  Text(0.07738268207935346, -0.6957096524515134, '8.8'),\n",
       "  Text(0.5808786557969204, -0.3906148835356414, '18.8')])"
      ]
     },
     "execution_count": 67,
     "metadata": {},
     "output_type": "execute_result"
    },
    {
     "data": {
      "image/png": "[encoded data removed]",
      "text/plain": [
       "<Figure size 432x288 with 1 Axes>"
      ]
     },
     "metadata": {},
     "output_type": "display_data"
    }
   ],
   "source": [
    "plt.pie(gdata.values,labels=gdata.index, autopct =\"%.1f\", colors=[\"green\",\"yellow\",\"red\"],explode= explode ,pctdistance =0.7)"
   ]
  },
  {
   "cell_type": "markdown",
   "id": "14eadbea",
   "metadata": {},
   "source": [
    "### couunt of clasess"
   ]
  },
  {
   "cell_type": "code",
   "execution_count": 69,
   "id": "8ed1161f",
   "metadata": {},
   "outputs": [],
   "source": [
    "gdata=data[\"class\"].value_counts()"
   ]
  },
  {
   "cell_type": "code",
   "execution_count": 70,
   "id": "363cbd49",
   "metadata": {},
   "outputs": [
    {
     "data": {
      "text/plain": [
       "array([476, 212, 177], dtype=int64)"
      ]
     },
     "execution_count": 70,
     "metadata": {},
     "output_type": "execute_result"
    }
   ],
   "source": [
    "gdata.values"
   ]
  },
  {
   "cell_type": "code",
   "execution_count": 71,
   "id": "82f0eeab",
   "metadata": {},
   "outputs": [
    {
     "data": {
      "text/plain": [
       "CategoricalIndex(['Third', 'First', 'Second'], categories=['First', 'Second', 'Third'], ordered=False, dtype='category')"
      ]
     },
     "execution_count": 71,
     "metadata": {},
     "output_type": "execute_result"
    }
   ],
   "source": [
    "gdata.index"
   ]
  },
  {
   "cell_type": "code",
   "execution_count": 72,
   "id": "33b36cfd",
   "metadata": {},
   "outputs": [
    {
     "data": {
      "text/plain": [
       "3"
      ]
     },
     "execution_count": 72,
     "metadata": {},
     "output_type": "execute_result"
    }
   ],
   "source": [
    "len(gdata.sort_values(ascending=False))"
   ]
  },
  {
   "cell_type": "code",
   "execution_count": 73,
   "id": "49047995",
   "metadata": {},
   "outputs": [],
   "source": [
    "explode=np.zeros(len(gdata))"
   ]
  },
  {
   "cell_type": "code",
   "execution_count": 74,
   "id": "64975c29",
   "metadata": {},
   "outputs": [
    {
     "data": {
      "text/plain": [
       "array([0., 0., 0.])"
      ]
     },
     "execution_count": 74,
     "metadata": {},
     "output_type": "execute_result"
    }
   ],
   "source": [
    "explode"
   ]
  },
  {
   "cell_type": "code",
   "execution_count": 75,
   "id": "1d0c85d0",
   "metadata": {},
   "outputs": [],
   "source": [
    "gdata=gdata.sample(frac = 1)"
   ]
  },
  {
   "cell_type": "code",
   "execution_count": 77,
   "id": "58393f0c",
   "metadata": {},
   "outputs": [
    {
     "data": {
      "text/plain": [
       "([<matplotlib.patches.Wedge at 0x1e971df92b0>,\n",
       "  <matplotlib.patches.Wedge at 0x1e971df9820>,\n",
       "  <matplotlib.patches.Wedge at 0x1e971df9f40>],\n",
       " [Text(-0.1730643758947103, 1.086300474912984, 'Third'),\n",
       "  Text(-0.6319335407265625, -0.900366592063916, 'Second'),\n",
       "  Text(0.7897304655932094, -0.7657191336997744, 'First')],\n",
       " [Text(-0.11013187556936108, 0.6912821203991716, '55.0'),\n",
       "  Text(-0.40213952591690333, -0.5729605585861283, '20.5'),\n",
       "  Text(0.5025557508320422, -0.4872758123544018, '24.5')])"
      ]
     },
     "execution_count": 77,
     "metadata": {},
     "output_type": "execute_result"
    },
    {
     "data": {
      "image/png": "[encoded data removed]",
      "text/plain": [
       "<Figure size 432x288 with 1 Axes>"
      ]
     },
     "metadata": {},
     "output_type": "display_data"
    }
   ],
   "source": [
    "plt.pie(gdata.values,labels=gdata.index, autopct =\"%.1f\", colors=[\"blue\",\"black\",\"red\"],explode= explode ,pctdistance =0.7)"
   ]
  },
  {
   "cell_type": "markdown",
   "id": "110cc091",
   "metadata": {},
   "source": [
    "### alive"
   ]
  },
  {
   "cell_type": "code",
   "execution_count": 78,
   "id": "f6ce7143",
   "metadata": {},
   "outputs": [],
   "source": [
    "gdata=data[\"alive\"].value_counts()"
   ]
  },
  {
   "cell_type": "code",
   "execution_count": 79,
   "id": "078c1b64",
   "metadata": {},
   "outputs": [
    {
     "data": {
      "text/plain": [
       "array([540, 325], dtype=int64)"
      ]
     },
     "execution_count": 79,
     "metadata": {},
     "output_type": "execute_result"
    }
   ],
   "source": [
    "gdata.values"
   ]
  },
  {
   "cell_type": "code",
   "execution_count": 80,
   "id": "e771af91",
   "metadata": {},
   "outputs": [
    {
     "data": {
      "text/plain": [
       "Index(['no', 'yes'], dtype='object')"
      ]
     },
     "execution_count": 80,
     "metadata": {},
     "output_type": "execute_result"
    }
   ],
   "source": [
    "gdata.index"
   ]
  },
  {
   "cell_type": "code",
   "execution_count": 81,
   "id": "b4cc76e2",
   "metadata": {},
   "outputs": [
    {
     "data": {
      "text/plain": [
       "2"
      ]
     },
     "execution_count": 81,
     "metadata": {},
     "output_type": "execute_result"
    }
   ],
   "source": [
    "len(gdata.sort_values(ascending=False))"
   ]
  },
  {
   "cell_type": "code",
   "execution_count": 82,
   "id": "37b18f62",
   "metadata": {},
   "outputs": [],
   "source": [
    "explode=np.zeros(len(gdata))"
   ]
  },
  {
   "cell_type": "code",
   "execution_count": 83,
   "id": "cfecd50a",
   "metadata": {},
   "outputs": [
    {
     "data": {
      "text/plain": [
       "array([0., 0.])"
      ]
     },
     "execution_count": 83,
     "metadata": {},
     "output_type": "execute_result"
    }
   ],
   "source": [
    "explode"
   ]
  },
  {
   "cell_type": "code",
   "execution_count": 84,
   "id": "db1e29f5",
   "metadata": {},
   "outputs": [],
   "source": [
    "gdata=gdata.sample(frac = 1)"
   ]
  },
  {
   "cell_type": "code",
   "execution_count": 85,
   "id": "189037f7",
   "metadata": {},
   "outputs": [
    {
     "data": {
      "text/plain": [
       "([<matplotlib.patches.Wedge at 0x1e971e42be0>,\n",
       "  <matplotlib.patches.Wedge at 0x1e971e503a0>],\n",
       " [Text(-0.41864388067513814, 1.0172203798456168, 'no'),\n",
       "  Text(0.41864397591418107, -1.0172203406493436, 'yes')],\n",
       " [Text(-0.2664097422478151, 0.6473220599017561, '62.4'),\n",
       "  Text(0.2664098028544788, -0.6473220349586731, '37.6')])"
      ]
     },
     "execution_count": 85,
     "metadata": {},
     "output_type": "execute_result"
    },
    {
     "data": {
      "image/png": "[encoded data removed]",
      "text/plain": [
       "<Figure size 432x288 with 1 Axes>"
      ]
     },
     "metadata": {},
     "output_type": "display_data"
    }
   ],
   "source": [
    "plt.pie(gdata.values,labels=gdata.index, autopct =\"%.1f\", colors=[\"green\",\"blue\"],explode= explode ,pctdistance =0.7)"
   ]
  },
  {
   "cell_type": "markdown",
   "id": "e9247c28",
   "metadata": {},
   "source": [
    "### gender"
   ]
  },
  {
   "cell_type": "code",
   "execution_count": 86,
   "id": "14af6d60",
   "metadata": {},
   "outputs": [],
   "source": [
    "gdata=data[\"sex\"].value_counts()"
   ]
  },
  {
   "cell_type": "code",
   "execution_count": 87,
   "id": "0fcb8bf6",
   "metadata": {},
   "outputs": [
    {
     "data": {
      "text/plain": [
       "array([563, 302], dtype=int64)"
      ]
     },
     "execution_count": 87,
     "metadata": {},
     "output_type": "execute_result"
    }
   ],
   "source": [
    "gdata.values"
   ]
  },
  {
   "cell_type": "code",
   "execution_count": 88,
   "id": "38cdd511",
   "metadata": {},
   "outputs": [
    {
     "data": {
      "text/plain": [
       "Index(['male', 'female'], dtype='object')"
      ]
     },
     "execution_count": 88,
     "metadata": {},
     "output_type": "execute_result"
    }
   ],
   "source": [
    "gdata.index"
   ]
  },
  {
   "cell_type": "code",
   "execution_count": 89,
   "id": "630cc1d9",
   "metadata": {},
   "outputs": [
    {
     "data": {
      "text/plain": [
       "2"
      ]
     },
     "execution_count": 89,
     "metadata": {},
     "output_type": "execute_result"
    }
   ],
   "source": [
    "len(gdata.sort_values(ascending=False))"
   ]
  },
  {
   "cell_type": "code",
   "execution_count": 90,
   "id": "cf88da60",
   "metadata": {},
   "outputs": [],
   "source": [
    "explode=np.zeros(len(gdata))"
   ]
  },
  {
   "cell_type": "code",
   "execution_count": 91,
   "id": "d80c27c0",
   "metadata": {},
   "outputs": [
    {
     "data": {
      "text/plain": [
       "array([0., 0.])"
      ]
     },
     "execution_count": 91,
     "metadata": {},
     "output_type": "execute_result"
    }
   ],
   "source": [
    "explode"
   ]
  },
  {
   "cell_type": "code",
   "execution_count": 92,
   "id": "0e2e02f0",
   "metadata": {},
   "outputs": [],
   "source": [
    "gdata=gdata.sample(frac = 1)"
   ]
  },
  {
   "cell_type": "code",
   "execution_count": 94,
   "id": "43055f03",
   "metadata": {},
   "outputs": [
    {
     "data": {
      "text/plain": [
       "([<matplotlib.patches.Wedge at 0x1e971ee26a0>,\n",
       "  <matplotlib.patches.Wedge at 0x1e971ee2e20>],\n",
       " [Text(0.502057409635509, 0.9787432540917372, 'female'),\n",
       "  Text(-0.5020574096355089, -0.9787432540917372, 'male')],\n",
       " [Text(0.3194910788589602, 0.6228366162401964, '34.9'),\n",
       "  Text(-0.31949107885896016, -0.6228366162401964, '65.1')])"
      ]
     },
     "execution_count": 94,
     "metadata": {},
     "output_type": "execute_result"
    },
    {
     "data": {
      "image/png": "[encoded data removed]",
      "text/plain": [
       "<Figure size 432x288 with 1 Axes>"
      ]
     },
     "metadata": {},
     "output_type": "display_data"
    }
   ],
   "source": [
    "plt.pie(gdata.values,labels=gdata.index, autopct =\"%.1f\", colors=[\"red\",\"cyan\"],explode= explode ,pctdistance =0.7)"
   ]
  },
  {
   "cell_type": "markdown",
   "id": "2b3ac446",
   "metadata": {},
   "source": [
    "### Alone"
   ]
  },
  {
   "cell_type": "code",
   "execution_count": 95,
   "id": "bb783027",
   "metadata": {},
   "outputs": [],
   "source": [
    "gdata=data[\"alone\"].value_counts()"
   ]
  },
  {
   "cell_type": "code",
   "execution_count": 96,
   "id": "c814742b",
   "metadata": {},
   "outputs": [
    {
     "data": {
      "text/plain": [
       "array([535, 330], dtype=int64)"
      ]
     },
     "execution_count": 96,
     "metadata": {},
     "output_type": "execute_result"
    }
   ],
   "source": [
    "gdata.values"
   ]
  },
  {
   "cell_type": "code",
   "execution_count": 97,
   "id": "dd2ecdb3",
   "metadata": {},
   "outputs": [
    {
     "data": {
      "text/plain": [
       "Index([True, False], dtype='object')"
      ]
     },
     "execution_count": 97,
     "metadata": {},
     "output_type": "execute_result"
    }
   ],
   "source": [
    "gdata.index"
   ]
  },
  {
   "cell_type": "code",
   "execution_count": 98,
   "id": "1642d188",
   "metadata": {},
   "outputs": [
    {
     "data": {
      "text/plain": [
       "2"
      ]
     },
     "execution_count": 98,
     "metadata": {},
     "output_type": "execute_result"
    }
   ],
   "source": [
    "len(gdata.sort_values(ascending=False))"
   ]
  },
  {
   "cell_type": "code",
   "execution_count": 99,
   "id": "5c7f920a",
   "metadata": {},
   "outputs": [],
   "source": [
    "explode=np.zeros(len(gdata))"
   ]
  },
  {
   "cell_type": "code",
   "execution_count": 100,
   "id": "893c1269",
   "metadata": {},
   "outputs": [
    {
     "data": {
      "text/plain": [
       "array([0., 0.])"
      ]
     },
     "execution_count": 100,
     "metadata": {},
     "output_type": "execute_result"
    }
   ],
   "source": [
    "explode"
   ]
  },
  {
   "cell_type": "code",
   "execution_count": 101,
   "id": "b9660a0e",
   "metadata": {},
   "outputs": [],
   "source": [
    "gdata=gdata.sample(frac = 1)"
   ]
  },
  {
   "cell_type": "code",
   "execution_count": 102,
   "id": "169d29a0",
   "metadata": {},
   "outputs": [
    {
     "data": {
      "text/plain": [
       "([<matplotlib.patches.Wedge at 0x1e971f2bdc0>,\n",
       "  <matplotlib.patches.Wedge at 0x1e971f394f0>],\n",
       " [Text(-0.400103686175641, 1.0246545956119382, 'True'),\n",
       "  Text(0.40010378211072595, -1.0246545581515232, 'False')],\n",
       " [Text(-0.2546114366572261, 0.6520529244803241, '61.8'),\n",
       "  Text(0.25461149770682556, -0.6520529006418783, '38.2')])"
      ]
     },
     "execution_count": 102,
     "metadata": {},
     "output_type": "execute_result"
    },
    {
     "data": {
      "image/png": "[encoded data removed]",
      "text/plain": [
       "<Figure size 432x288 with 1 Axes>"
      ]
     },
     "metadata": {},
     "output_type": "display_data"
    }
   ],
   "source": [
    "plt.pie(gdata.values,labels=gdata.index, autopct =\"%.1f\", colors=[\"violet\",\"indigo\",],explode= explode ,pctdistance =0.7)"
   ]
  },
  {
   "cell_type": "code",
   "execution_count": null,
   "id": "e8b2c417",
   "metadata": {},
   "outputs": [],
   "source": []
  }
 ],
 "metadata": {
  "kernelspec": {
   "display_name": "Python 3 (ipykernel)",
   "language": "python",
   "name": "python3"
  },
  "language_info": {
   "codemirror_mode": {
    "name": "ipython",
    "version": 3
   },
   "file_extension": ".py",
   "mimetype": "text/x-python",
   "name": "python",
   "nbconvert_exporter": "python",
   "pygments_lexer": "ipython3",
   "version": "3.9.7"
  }
 },
 "nbformat": 4,
 "nbformat_minor": 5
}
